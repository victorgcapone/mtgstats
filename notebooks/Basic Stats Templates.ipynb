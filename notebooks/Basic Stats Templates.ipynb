{
 "cells": [
  {
   "cell_type": "code",
   "execution_count": null,
   "id": "0143e52a",
   "metadata": {},
   "outputs": [],
   "source": [
    "# Duplicate this template, write your scryfall query here and then run the notebook\n",
    "QUERY = \"\"\n",
    "LIMIT = 100"
   ]
  },
  {
   "cell_type": "code",
   "execution_count": null,
   "id": "0a8298ba",
   "metadata": {},
   "outputs": [],
   "source": [
    "import mtgstats.scryfall.api as api\n",
    "import mtgstats.cards as c\n",
    "from mtgstats.analysis import cmc_analysis, color_analysis\n",
    "from mtgstats.plots import cmc_distribution, color_distribution\n",
    "import pandas as pd\n",
    "import matplotlib.pyplot as plt"
   ]
  },
  {
   "cell_type": "code",
   "execution_count": null,
   "id": "6bc73dc6",
   "metadata": {},
   "outputs": [],
   "source": [
    "query = api.search(QUERY, limit=LIMIT)\n",
    "cards = c.parse_cards(query)\n",
    "data = pd.DataFrame(cards)"
   ]
  },
  {
   "cell_type": "code",
   "execution_count": null,
   "id": "6878287b",
   "metadata": {},
   "outputs": [],
   "source": [
    "data.head()"
   ]
  },
  {
   "cell_type": "code",
   "execution_count": null,
   "id": "f2f62444",
   "metadata": {},
   "outputs": [],
   "source": [
    "cmc_distribution(cards)"
   ]
  },
  {
   "cell_type": "code",
   "execution_count": null,
   "id": "ac6bdfd4",
   "metadata": {},
   "outputs": [],
   "source": [
    "color_distribution(cards)"
   ]
  }
 ],
 "metadata": {
  "kernelspec": {
   "display_name": "Python 3",
   "language": "python",
   "name": "python3"
  },
  "language_info": {
   "codemirror_mode": {
    "name": "ipython",
    "version": 3
   },
   "file_extension": ".py",
   "mimetype": "text/x-python",
   "name": "python",
   "nbconvert_exporter": "python",
   "pygments_lexer": "ipython3",
   "version": "3.9.4"
  }
 },
 "nbformat": 4,
 "nbformat_minor": 5
}
