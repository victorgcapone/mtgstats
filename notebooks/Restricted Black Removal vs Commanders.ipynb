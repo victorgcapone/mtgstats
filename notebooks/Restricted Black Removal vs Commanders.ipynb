{
 "cells": [
  {
   "cell_type": "code",
   "execution_count": 1,
   "id": "0143e52a",
   "metadata": {},
   "outputs": [],
   "source": [
    "# Duplicate this template, write your scryfall query here and then run the notebook\n",
    "QUERY = \"t:creature is:commander sort:edhrec\"\n",
    "LIMIT = 100"
   ]
  },
  {
   "cell_type": "code",
   "execution_count": 2,
   "id": "0a8298ba",
   "metadata": {},
   "outputs": [],
   "source": [
    "import mtgstats.scryfall.api as api\n",
    "import mtgstats.cards as c\n",
    "from mtgstats.analysis import cmc_analysis, color_analysis, subtype_analysis\n",
    "import pandas as pd\n",
    "import matplotlib.pyplot as plt\n",
    "import numpy as np"
   ]
  },
  {
   "cell_type": "code",
   "execution_count": 3,
   "id": "6bc73dc6",
   "metadata": {},
   "outputs": [],
   "source": [
    "query = api.search(QUERY, limit=LIMIT)\n",
    "cards = c.parse_cards(query)"
   ]
  },
  {
   "cell_type": "code",
   "execution_count": 4,
   "id": "db8e00ec",
   "metadata": {},
   "outputs": [],
   "source": [
    "# Go for the Throat - Non-artifact\n",
    "# Doomblade - non-black\n",
    "# Malicious Afflitcion - non-black\n",
    "# Victim of Night - non-Vampire, non-Werewolf, non-Zombie\n",
    "# Vendetta - non-black, can't regenerate, loses life equal to toughness\n",
    "# Terror - Non-black\n",
    "# Ultimate Price - Monocolored\n",
    "# Devour in shadow - Can't regenerate, loses life equal to toughness\n",
    "# Power Word Kill - non-Angel, non-Demon, non-Devil, non-Dragon"
   ]
  },
  {
   "cell_type": "code",
   "execution_count": 5,
   "id": "cd8d9a16",
   "metadata": {},
   "outputs": [
    {
     "name": "stdout",
     "output_type": "stream",
     "text": [
      "Nissa, Vastwood Seer\n"
     ]
    }
   ],
   "source": [
    "destructible = list(filter(lambda x: \"Indestructible\" not in x.get('keywords', []), cards))\n",
    "c = color_analysis(destructible)\n",
    "cmc, cum_cmc = cmc_analysis(destructible)\n",
    "types = subtype_analysis(destructible)\n",
    "data = pd.DataFrame(destructible)"
   ]
  },
  {
   "cell_type": "code",
   "execution_count": 6,
   "id": "5927efbf",
   "metadata": {},
   "outputs": [
    {
     "name": "stdout",
     "output_type": "stream",
     "text": [
      "62\n"
     ]
    }
   ],
   "source": [
    "# Número de criaturas não pretas: Doomblade, Malicious Affliction, Vendetta\n",
    "non_black_creatures = len(data) - c['B']\n",
    "print(non_black_creatures)"
   ]
  },
  {
   "cell_type": "code",
   "execution_count": 7,
   "id": "2549c55b",
   "metadata": {},
   "outputs": [
    {
     "name": "stdout",
     "output_type": "stream",
     "text": [
      "84\n",
      "61\n"
     ]
    }
   ],
   "source": [
    "artifact_creatures =  len(data[data['type_line'].str.contains(\"Artifact\")])\n",
    "# Número de criaturas artefatos\n",
    "print(len(data) - artifact_creatures)\n",
    "# Terror\n",
    "print(non_black_creatures - artifact_creatures)"
   ]
  },
  {
   "cell_type": "code",
   "execution_count": 8,
   "id": "e90dedff",
   "metadata": {},
   "outputs": [
    {
     "data": {
      "text/plain": [
       "58"
      ]
     },
     "execution_count": 8,
     "metadata": {},
     "output_type": "execute_result"
    }
   ],
   "source": [
    "# Numero de criaturas monocoloridas: Ultimate price\n",
    "len(data[data.colors.str.len() == 1])"
   ]
  },
  {
   "cell_type": "code",
   "execution_count": 9,
   "id": "9b0c5b15",
   "metadata": {},
   "outputs": [
    {
     "data": {
      "text/plain": [
       "75"
      ]
     },
     "execution_count": 9,
     "metadata": {},
     "output_type": "execute_result"
    }
   ],
   "source": [
    "# Victim of Night\n",
    "t = ['Zombie', 'Werewolf', 'Vampire']\n",
    "len(data) - sum([types.get(x, 0) for x in t])"
   ]
  },
  {
   "cell_type": "code",
   "execution_count": 10,
   "id": "a6759b8f",
   "metadata": {},
   "outputs": [
    {
     "data": {
      "text/plain": [
       "74"
      ]
     },
     "execution_count": 10,
     "metadata": {},
     "output_type": "execute_result"
    }
   ],
   "source": [
    "# Power Word Kill\n",
    "t = ['Angel', 'Demon', 'Devil', 'Dragon']\n",
    "len(data) - sum([types.get(x, 0) for x in t])"
   ]
  },
  {
   "cell_type": "code",
   "execution_count": 11,
   "id": "69cdc748",
   "metadata": {},
   "outputs": [],
   "source": [
    "def tough_helper(x):\n",
    "    t = x.get('toughness', 0)\n",
    "    # Cartas com * na resistência vão ficar marcadas com -1\n",
    "    return int(t) if t != '*' else 0"
   ]
  },
  {
   "cell_type": "code",
   "execution_count": 12,
   "id": "e802522f",
   "metadata": {},
   "outputs": [
    {
     "data": {
      "text/plain": [
       "{0: 2, 1: 5, 2: 16, 3: 28, 4: 43, 5: 49, 6: 54, 7: 58, 12: 61, 13: 62}"
      ]
     },
     "execution_count": 12,
     "metadata": {},
     "output_type": "execute_result"
    }
   ],
   "source": [
    "# Distribuição das resistências para Vendetta (criaturas não pretas)\n",
    "t = list(\n",
    "    map(tough_helper, \n",
    "        filter(lambda x: 'B' not in x.get('colors', []),\n",
    "               destructible)))\n",
    "from collections import Counter\n",
    "counter = Counter(t)\n",
    "s = sorted(counter.items(), key=lambda x:x[0])\n",
    "\n",
    "_, t = zip(*s)\n",
    "# Soma cumulativa <resitencia>: <soma>\n",
    "dict(zip(_,np.cumsum(t)))"
   ]
  },
  {
   "cell_type": "code",
   "execution_count": 13,
   "id": "32c581a9",
   "metadata": {},
   "outputs": [
    {
     "data": {
      "text/plain": [
       "{0: 2, 1: 5, 2: 20, 3: 36, 4: 56, 5: 65, 6: 75, 7: 79, 8: 81, 12: 84, 13: 85}"
      ]
     },
     "execution_count": 13,
     "metadata": {},
     "output_type": "execute_result"
    }
   ],
   "source": [
    "# Distribuição das resistências para Malicious Afliction\n",
    "t = list(\n",
    "    map(tough_helper,destructible))\n",
    "from collections import Counter\n",
    "counter = Counter(t)\n",
    "s = sorted(counter.items(), key=lambda x:x[0])\n",
    "\n",
    "_, t = zip(*s)\n",
    "# Soma cumulativa <resitencia>: <soma>\n",
    "dict(zip(_,np.cumsum(t)))"
   ]
  }
 ],
 "metadata": {
  "kernelspec": {
   "display_name": "Python 3",
   "language": "python",
   "name": "python3"
  },
  "language_info": {
   "codemirror_mode": {
    "name": "ipython",
    "version": 3
   },
   "file_extension": ".py",
   "mimetype": "text/x-python",
   "name": "python",
   "nbconvert_exporter": "python",
   "pygments_lexer": "ipython3",
   "version": "3.8.5"
  }
 },
 "nbformat": 4,
 "nbformat_minor": 5
}
