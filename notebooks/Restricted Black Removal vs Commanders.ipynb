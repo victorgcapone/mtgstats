{
 "cells": [
  {
   "cell_type": "code",
   "execution_count": 62,
   "id": "0143e52a",
   "metadata": {},
   "outputs": [],
   "source": [
    "# Duplicate this template, write your scryfall query here and then run the notebook\n",
    "QUERY = \"t:creature sort:edhrec\"\n",
    "LIMIT = 500"
   ]
  },
  {
   "cell_type": "code",
   "execution_count": 63,
   "id": "0a8298ba",
   "metadata": {},
   "outputs": [],
   "source": [
    "import mtgstats.scryfall.api as api\n",
    "import mtgstats.cards as c\n",
    "from mtgstats.analysis import cmc_analysis, color_analysis, subtype_analysis\n",
    "import pandas as pd\n",
    "import matplotlib.pyplot as plt\n",
    "import numpy as np"
   ]
  },
  {
   "cell_type": "code",
   "execution_count": 64,
   "id": "6bc73dc6",
   "metadata": {},
   "outputs": [],
   "source": [
    "query = api.search(QUERY, limit=LIMIT)\n",
    "cards = c.parse_cards(query)"
   ]
  },
  {
   "cell_type": "code",
   "execution_count": 65,
   "id": "db8e00ec",
   "metadata": {},
   "outputs": [],
   "source": [
    "# Go for the Throat - Non-artifact\n",
    "# Doomblade - non-black\n",
    "# Malicious Afflitcion - non-black\n",
    "# Victim of Night - non-Vampire, non-Werewolf, non-Zombie\n",
    "# Vendetta - non-black, can't regenerate, loses life equal to toughness\n",
    "# Terror - Non-black\n",
    "# Ultimate Price - Monocolored\n",
    "# Devour in shadow - Can't regenerate, loses life equal to toughness\n",
    "# Power Word Kill - non-Angel, non-Demon, non-Devil, non-Dragon"
   ]
  },
  {
   "cell_type": "code",
   "execution_count": 81,
   "id": "72c74684",
   "metadata": {},
   "outputs": [],
   "source": [
    "KEYWORDS = [\"Shroud\", \"Hexproof\", \"Indestructible\"]\n",
    "\n",
    "def has_any_keyword(keywords, card):\n",
    "    return any( [kw in card.get('keywords', []) for kw in keywords])\n",
    "\n",
    "f = lambda x: not has_any_keyword(KEYWORDS, x)"
   ]
  },
  {
   "cell_type": "code",
   "execution_count": 82,
   "id": "8d3d6d00",
   "metadata": {},
   "outputs": [
    {
     "name": "stdout",
     "output_type": "stream",
     "text": [
      "Nissa, Vastwood Seer\n",
      "Glasspool Mimic\n",
      "Docent of Perfection\n",
      "Birgi, God of Storytelling\n",
      "Liliana, Heretical Healer\n"
     ]
    }
   ],
   "source": [
    "destructible = list(filter(f, cards))\n",
    "c = color_analysis(destructible)\n",
    "cmc, cum_cmc = cmc_analysis(destructible)\n",
    "types = subtype_analysis(destructible)\n",
    "data = pd.DataFrame(destructible)"
   ]
  },
  {
   "cell_type": "code",
   "execution_count": 83,
   "id": "5927efbf",
   "metadata": {},
   "outputs": [
    {
     "name": "stdout",
     "output_type": "stream",
     "text": [
      "378\n"
     ]
    }
   ],
   "source": [
    "# Número de criaturas não pretas: Doomblade, Malicious Affliction, Vendetta\n",
    "non_black_creatures = len(data) - c['B']\n",
    "print(non_black_creatures)"
   ]
  },
  {
   "cell_type": "code",
   "execution_count": 84,
   "id": "610d72da",
   "metadata": {},
   "outputs": [
    {
     "name": "stdout",
     "output_type": "stream",
     "text": [
      "439\n",
      "339\n"
     ]
    }
   ],
   "source": [
    "artifact_creatures =  len(data[data['type_line'].str.contains(\"Artifact\")])\n",
    "# Número de criaturas artefatos\n",
    "print(len(data) - artifact_creatures)\n",
    "# Terror\n",
    "print(non_black_creatures - artifact_creatures)"
   ]
  },
  {
   "cell_type": "code",
   "execution_count": 85,
   "id": "e90dedff",
   "metadata": {},
   "outputs": [
    {
     "data": {
      "text/plain": [
       "352"
      ]
     },
     "execution_count": 85,
     "metadata": {},
     "output_type": "execute_result"
    }
   ],
   "source": [
    "# Numero de criaturas monocoloridas: Ultimate price\n",
    "len(data[data.colors.str.len() == 1])"
   ]
  },
  {
   "cell_type": "code",
   "execution_count": 86,
   "id": "9b0c5b15",
   "metadata": {},
   "outputs": [
    {
     "data": {
      "text/plain": [
       "440"
      ]
     },
     "execution_count": 86,
     "metadata": {},
     "output_type": "execute_result"
    }
   ],
   "source": [
    "# Victim of Night\n",
    "t = ['Zombie', 'Werewolf', 'Vampire']\n",
    "len(data) - sum([types.get(x, 0) for x in t])"
   ]
  },
  {
   "cell_type": "code",
   "execution_count": 87,
   "id": "a6759b8f",
   "metadata": {},
   "outputs": [
    {
     "data": {
      "text/plain": [
       "441"
      ]
     },
     "execution_count": 87,
     "metadata": {},
     "output_type": "execute_result"
    }
   ],
   "source": [
    "# Power Word Kill\n",
    "t = ['Angel', 'Demon', 'Devil', 'Dragon']\n",
    "len(data) - sum([types.get(x, 0) for x in t])"
   ]
  },
  {
   "cell_type": "code",
   "execution_count": 88,
   "id": "461dc99e",
   "metadata": {},
   "outputs": [],
   "source": [
    "def tough_helper(x):\n",
    "    t = x.get('toughness', 0)\n",
    "    # Cartas com * na resistência vão ficar marcadas com 0\n",
    "    return int(t) if t != '*' else 0"
   ]
  },
  {
   "cell_type": "code",
   "execution_count": 89,
   "id": "51912e92",
   "metadata": {},
   "outputs": [
    {
     "data": {
      "text/plain": [
       "{0: 25,\n",
       " 1: 113,\n",
       " 2: 204,\n",
       " 3: 250,\n",
       " 4: 300,\n",
       " 5: 329,\n",
       " 6: 358,\n",
       " 7: 366,\n",
       " 8: 367,\n",
       " 9: 372,\n",
       " 10: 373,\n",
       " 11: 374,\n",
       " 12: 377,\n",
       " 13: 378}"
      ]
     },
     "execution_count": 89,
     "metadata": {},
     "output_type": "execute_result"
    }
   ],
   "source": [
    "# Distribuição das resistências para Vendetta (criaturas não pretas)\n",
    "t = list(\n",
    "    map(tough_helper, \n",
    "        filter(lambda x: 'B' not in x.get('colors', []),\n",
    "               destructible)))\n",
    "from collections import Counter\n",
    "counter = Counter(t)\n",
    "s = sorted(counter.items(), key=lambda x:x[0])\n",
    "\n",
    "_, t = zip(*s)\n",
    "# Soma cumulativa <resitencia>: <soma>\n",
    "dict(zip(_,np.cumsum(t)))"
   ]
  },
  {
   "cell_type": "code",
   "execution_count": 90,
   "id": "1bcdea51",
   "metadata": {},
   "outputs": [
    {
     "data": {
      "text/plain": [
       "{0: 26,\n",
       " 1: 131,\n",
       " 2: 248,\n",
       " 3: 313,\n",
       " 4: 384,\n",
       " 5: 419,\n",
       " 6: 456,\n",
       " 7: 464,\n",
       " 8: 467,\n",
       " 9: 472,\n",
       " 10: 473,\n",
       " 11: 474,\n",
       " 12: 477,\n",
       " 13: 478}"
      ]
     },
     "execution_count": 90,
     "metadata": {},
     "output_type": "execute_result"
    }
   ],
   "source": [
    "# Distribuição das resistências para Malicious Afliction\n",
    "t = list(\n",
    "    map(tough_helper,destructible))\n",
    "from collections import Counter\n",
    "counter = Counter(t)\n",
    "s = sorted(counter.items(), key=lambda x:x[0])\n",
    "\n",
    "_, t = zip(*s)\n",
    "# Soma cumulativa <resitencia>: <soma>\n",
    "dict(zip(_,np.cumsum(t)))"
   ]
  }
 ],
 "metadata": {
  "kernelspec": {
   "display_name": "Python 3",
   "language": "python",
   "name": "python3"
  },
  "language_info": {
   "codemirror_mode": {
    "name": "ipython",
    "version": 3
   },
   "file_extension": ".py",
   "mimetype": "text/x-python",
   "name": "python",
   "nbconvert_exporter": "python",
   "pygments_lexer": "ipython3",
   "version": "3.8.5"
  }
 },
 "nbformat": 4,
 "nbformat_minor": 5
}
