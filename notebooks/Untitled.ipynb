{
 "cells": [
  {
   "cell_type": "code",
   "execution_count": 5,
   "id": "0a8298ba",
   "metadata": {},
   "outputs": [],
   "source": [
    "import mtgstats.scryfall.api as api\n",
    "import mtgstats.cards as c\n",
    "import pandas as pd"
   ]
  },
  {
   "cell_type": "code",
   "execution_count": 6,
   "id": "f6f269e6",
   "metadata": {},
   "outputs": [
    {
     "name": "stdout",
     "output_type": "stream",
     "text": [
      "Making request to https://api.scryfall.com/cards/search?q=Gray\n"
     ]
    }
   ],
   "source": [
    "gary = api.search('')"
   ]
  },
  {
   "cell_type": "code",
   "execution_count": 7,
   "id": "6bc73dc6",
   "metadata": {},
   "outputs": [],
   "source": [
    "cards = c.parse_cards(gary)"
   ]
  },
  {
   "cell_type": "code",
   "execution_count": 10,
   "id": "bf0dbe0a",
   "metadata": {},
   "outputs": [],
   "source": [
    "data = pd.DataFrame(cards)"
   ]
  },
  {
   "cell_type": "code",
   "execution_count": 11,
   "id": "6878287b",
   "metadata": {},
   "outputs": [
    {
     "data": {
      "text/html": [
       "<div>\n",
       "<style scoped>\n",
       "    .dataframe tbody tr th:only-of-type {\n",
       "        vertical-align: middle;\n",
       "    }\n",
       "\n",
       "    .dataframe tbody tr th {\n",
       "        vertical-align: top;\n",
       "    }\n",
       "\n",
       "    .dataframe thead th {\n",
       "        text-align: right;\n",
       "    }\n",
       "</style>\n",
       "<table border=\"1\" class=\"dataframe\">\n",
       "  <thead>\n",
       "    <tr style=\"text-align: right;\">\n",
       "      <th></th>\n",
       "      <th>name</th>\n",
       "      <th>mana_cost</th>\n",
       "      <th>cmc</th>\n",
       "      <th>type_line</th>\n",
       "      <th>oracle_text</th>\n",
       "      <th>colors</th>\n",
       "      <th>color_identity</th>\n",
       "      <th>keywords</th>\n",
       "      <th>rarity</th>\n",
       "      <th>edhrec_rank</th>\n",
       "      <th>power</th>\n",
       "      <th>toughness</th>\n",
       "    </tr>\n",
       "  </thead>\n",
       "  <tbody>\n",
       "    <tr>\n",
       "      <th>0</th>\n",
       "      <td>Cleansing Ray</td>\n",
       "      <td>{1}{W}</td>\n",
       "      <td>2.0</td>\n",
       "      <td>Sorcery</td>\n",
       "      <td>Choose one —\\n• Destroy target Vampire.\\n• Des...</td>\n",
       "      <td>[W]</td>\n",
       "      <td>[W]</td>\n",
       "      <td>[]</td>\n",
       "      <td>common</td>\n",
       "      <td>16384</td>\n",
       "      <td>NaN</td>\n",
       "      <td>NaN</td>\n",
       "    </tr>\n",
       "    <tr>\n",
       "      <th>1</th>\n",
       "      <td>Gray Merchant of Asphodel</td>\n",
       "      <td>{3}{B}{B}</td>\n",
       "      <td>5.0</td>\n",
       "      <td>Creature — Zombie</td>\n",
       "      <td>When Gray Merchant of Asphodel enters the batt...</td>\n",
       "      <td>[B]</td>\n",
       "      <td>[B]</td>\n",
       "      <td>[]</td>\n",
       "      <td>uncommon</td>\n",
       "      <td>167</td>\n",
       "      <td>2</td>\n",
       "      <td>4</td>\n",
       "    </tr>\n",
       "    <tr>\n",
       "      <th>2</th>\n",
       "      <td>Gray Ogre</td>\n",
       "      <td>{2}{R}</td>\n",
       "      <td>3.0</td>\n",
       "      <td>Creature — Ogre</td>\n",
       "      <td></td>\n",
       "      <td>[R]</td>\n",
       "      <td>[R]</td>\n",
       "      <td>[]</td>\n",
       "      <td>common</td>\n",
       "      <td>20176</td>\n",
       "      <td>2</td>\n",
       "      <td>2</td>\n",
       "    </tr>\n",
       "    <tr>\n",
       "      <th>3</th>\n",
       "      <td>Graypelt Hunter</td>\n",
       "      <td>{3}{G}</td>\n",
       "      <td>4.0</td>\n",
       "      <td>Creature — Human Warrior Ally</td>\n",
       "      <td>Trample\\nWhenever Graypelt Hunter or another A...</td>\n",
       "      <td>[G]</td>\n",
       "      <td>[G]</td>\n",
       "      <td>[Trample]</td>\n",
       "      <td>common</td>\n",
       "      <td>12509</td>\n",
       "      <td>2</td>\n",
       "      <td>2</td>\n",
       "    </tr>\n",
       "    <tr>\n",
       "      <th>4</th>\n",
       "      <td>Graypelt Refuge</td>\n",
       "      <td></td>\n",
       "      <td>0.0</td>\n",
       "      <td>Land</td>\n",
       "      <td>Graypelt Refuge enters the battlefield tapped....</td>\n",
       "      <td>[]</td>\n",
       "      <td>[G, W]</td>\n",
       "      <td>[]</td>\n",
       "      <td>uncommon</td>\n",
       "      <td>1317</td>\n",
       "      <td>NaN</td>\n",
       "      <td>NaN</td>\n",
       "    </tr>\n",
       "  </tbody>\n",
       "</table>\n",
       "</div>"
      ],
      "text/plain": [
       "                        name  mana_cost  cmc                      type_line  \\\n",
       "0              Cleansing Ray     {1}{W}  2.0                        Sorcery   \n",
       "1  Gray Merchant of Asphodel  {3}{B}{B}  5.0              Creature — Zombie   \n",
       "2                  Gray Ogre     {2}{R}  3.0                Creature — Ogre   \n",
       "3            Graypelt Hunter     {3}{G}  4.0  Creature — Human Warrior Ally   \n",
       "4            Graypelt Refuge             0.0                           Land   \n",
       "\n",
       "                                         oracle_text colors color_identity  \\\n",
       "0  Choose one —\\n• Destroy target Vampire.\\n• Des...    [W]            [W]   \n",
       "1  When Gray Merchant of Asphodel enters the batt...    [B]            [B]   \n",
       "2                                                       [R]            [R]   \n",
       "3  Trample\\nWhenever Graypelt Hunter or another A...    [G]            [G]   \n",
       "4  Graypelt Refuge enters the battlefield tapped....     []         [G, W]   \n",
       "\n",
       "    keywords    rarity  edhrec_rank power toughness  \n",
       "0         []    common        16384   NaN       NaN  \n",
       "1         []  uncommon          167     2         4  \n",
       "2         []    common        20176     2         2  \n",
       "3  [Trample]    common        12509     2         2  \n",
       "4         []  uncommon         1317   NaN       NaN  "
      ]
     },
     "execution_count": 11,
     "metadata": {},
     "output_type": "execute_result"
    }
   ],
   "source": [
    "data.head()"
   ]
  },
  {
   "cell_type": "code",
   "execution_count": null,
   "id": "0661f823",
   "metadata": {},
   "outputs": [],
   "source": []
  }
 ],
 "metadata": {
  "kernelspec": {
   "display_name": "Python 3",
   "language": "python",
   "name": "python3"
  },
  "language_info": {
   "codemirror_mode": {
    "name": "ipython",
    "version": 3
   },
   "file_extension": ".py",
   "mimetype": "text/x-python",
   "name": "python",
   "nbconvert_exporter": "python",
   "pygments_lexer": "ipython3",
   "version": "3.9.4"
  }
 },
 "nbformat": 4,
 "nbformat_minor": 5
}
