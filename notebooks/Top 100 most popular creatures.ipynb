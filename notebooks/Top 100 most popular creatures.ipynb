{
 "cells": [
  {
   "cell_type": "code",
   "execution_count": 1,
   "id": "0143e52a",
   "metadata": {},
   "outputs": [],
   "source": [
    "# Duplicate this template, write your scryfall query here and then run the notebook\n",
    "QUERY = \"t:creature sort:edhrec\"\n",
    "LIMIT = 100"
   ]
  },
  {
   "cell_type": "code",
   "execution_count": 2,
   "id": "0a8298ba",
   "metadata": {},
   "outputs": [],
   "source": [
    "import mtgstats.scryfall.api as api\n",
    "import mtgstats.cards as c\n",
    "from mtgstats.analysis import cmc_analysis, color_analysis\n",
    "from mtgstats.plots import cmc_distribution, color_distribution\n",
    "import pandas as pd\n",
    "import matplotlib.pyplot as plt"
   ]
  },
  {
   "cell_type": "code",
   "execution_count": 3,
   "id": "6bc73dc6",
   "metadata": {},
   "outputs": [],
   "source": [
    "query = api.search(QUERY, limit=LIMIT)\n",
    "cards = c.parse_cards(query)\n",
    "data = pd.DataFrame(cards)"
   ]
  },
  {
   "cell_type": "code",
   "execution_count": 4,
   "id": "6878287b",
   "metadata": {},
   "outputs": [
    {
     "data": {
      "text/html": [
       "<div>\n",
       "<style scoped>\n",
       "    .dataframe tbody tr th:only-of-type {\n",
       "        vertical-align: middle;\n",
       "    }\n",
       "\n",
       "    .dataframe tbody tr th {\n",
       "        vertical-align: top;\n",
       "    }\n",
       "\n",
       "    .dataframe thead th {\n",
       "        text-align: right;\n",
       "    }\n",
       "</style>\n",
       "<table border=\"1\" class=\"dataframe\">\n",
       "  <thead>\n",
       "    <tr style=\"text-align: right;\">\n",
       "      <th></th>\n",
       "      <th>name</th>\n",
       "      <th>mana_cost</th>\n",
       "      <th>cmc</th>\n",
       "      <th>type_line</th>\n",
       "      <th>oracle_text</th>\n",
       "      <th>power</th>\n",
       "      <th>toughness</th>\n",
       "      <th>colors</th>\n",
       "      <th>color_identity</th>\n",
       "      <th>keywords</th>\n",
       "      <th>rarity</th>\n",
       "      <th>edhrec_rank</th>\n",
       "    </tr>\n",
       "  </thead>\n",
       "  <tbody>\n",
       "    <tr>\n",
       "      <th>0</th>\n",
       "      <td>Solemn Simulacrum</td>\n",
       "      <td>{4}</td>\n",
       "      <td>4.0</td>\n",
       "      <td>Artifact Creature — Golem</td>\n",
       "      <td>When Solemn Simulacrum enters the battlefield,...</td>\n",
       "      <td>2</td>\n",
       "      <td>2</td>\n",
       "      <td>[]</td>\n",
       "      <td>[]</td>\n",
       "      <td>[]</td>\n",
       "      <td>rare</td>\n",
       "      <td>20</td>\n",
       "    </tr>\n",
       "    <tr>\n",
       "      <th>1</th>\n",
       "      <td>Sakura-Tribe Elder</td>\n",
       "      <td>{1}{G}</td>\n",
       "      <td>2.0</td>\n",
       "      <td>Creature — Snake Shaman</td>\n",
       "      <td>Sacrifice Sakura-Tribe Elder: Search your libr...</td>\n",
       "      <td>1</td>\n",
       "      <td>1</td>\n",
       "      <td>[G]</td>\n",
       "      <td>[G]</td>\n",
       "      <td>[]</td>\n",
       "      <td>common</td>\n",
       "      <td>36</td>\n",
       "    </tr>\n",
       "    <tr>\n",
       "      <th>2</th>\n",
       "      <td>Eternal Witness</td>\n",
       "      <td>{1}{G}{G}</td>\n",
       "      <td>3.0</td>\n",
       "      <td>Creature — Human Shaman</td>\n",
       "      <td>When Eternal Witness enters the battlefield, y...</td>\n",
       "      <td>2</td>\n",
       "      <td>1</td>\n",
       "      <td>[G]</td>\n",
       "      <td>[G]</td>\n",
       "      <td>[]</td>\n",
       "      <td>uncommon</td>\n",
       "      <td>37</td>\n",
       "    </tr>\n",
       "    <tr>\n",
       "      <th>3</th>\n",
       "      <td>Llanowar Elves</td>\n",
       "      <td>{G}</td>\n",
       "      <td>1.0</td>\n",
       "      <td>Creature — Elf Druid</td>\n",
       "      <td>{T}: Add {G}.</td>\n",
       "      <td>1</td>\n",
       "      <td>1</td>\n",
       "      <td>[G]</td>\n",
       "      <td>[G]</td>\n",
       "      <td>[]</td>\n",
       "      <td>common</td>\n",
       "      <td>47</td>\n",
       "    </tr>\n",
       "    <tr>\n",
       "      <th>4</th>\n",
       "      <td>Birds of Paradise</td>\n",
       "      <td>{G}</td>\n",
       "      <td>1.0</td>\n",
       "      <td>Creature — Bird</td>\n",
       "      <td>Flying\\n{T}: Add one mana of any color.</td>\n",
       "      <td>0</td>\n",
       "      <td>1</td>\n",
       "      <td>[G]</td>\n",
       "      <td>[G]</td>\n",
       "      <td>[Flying]</td>\n",
       "      <td>rare</td>\n",
       "      <td>58</td>\n",
       "    </tr>\n",
       "  </tbody>\n",
       "</table>\n",
       "</div>"
      ],
      "text/plain": [
       "                 name  mana_cost  cmc                  type_line  \\\n",
       "0   Solemn Simulacrum        {4}  4.0  Artifact Creature — Golem   \n",
       "1  Sakura-Tribe Elder     {1}{G}  2.0    Creature — Snake Shaman   \n",
       "2     Eternal Witness  {1}{G}{G}  3.0    Creature — Human Shaman   \n",
       "3      Llanowar Elves        {G}  1.0       Creature — Elf Druid   \n",
       "4   Birds of Paradise        {G}  1.0            Creature — Bird   \n",
       "\n",
       "                                         oracle_text power toughness colors  \\\n",
       "0  When Solemn Simulacrum enters the battlefield,...     2         2     []   \n",
       "1  Sacrifice Sakura-Tribe Elder: Search your libr...     1         1    [G]   \n",
       "2  When Eternal Witness enters the battlefield, y...     2         1    [G]   \n",
       "3                                      {T}: Add {G}.     1         1    [G]   \n",
       "4            Flying\\n{T}: Add one mana of any color.     0         1    [G]   \n",
       "\n",
       "  color_identity  keywords    rarity  edhrec_rank  \n",
       "0             []        []      rare           20  \n",
       "1            [G]        []    common           36  \n",
       "2            [G]        []  uncommon           37  \n",
       "3            [G]        []    common           47  \n",
       "4            [G]  [Flying]      rare           58  "
      ]
     },
     "execution_count": 4,
     "metadata": {},
     "output_type": "execute_result"
    }
   ],
   "source": [
    "data.head()"
   ]
  },
  {
   "cell_type": "code",
   "execution_count": 5,
   "id": "f2f62444",
   "metadata": {},
   "outputs": [
    {
     "data": {
      "image/png": "[encoded data removed]",
      "text/plain": [
       "<Figure size 720x288 with 2 Axes>"
      ]
     },
     "execution_count": 5,
     "metadata": {},
     "output_type": "execute_result"
    }
   ],
   "source": [
    "cmc_distribution(cards)"
   ]
  },
  {
   "cell_type": "code",
   "execution_count": 6,
   "id": "ac6bdfd4",
   "metadata": {},
   "outputs": [
    {
     "data": {
      "image/png": "[encoded data removed]",
      "text/plain": [
       "<Figure size 720x288 with 2 Axes>"
      ]
     },
     "execution_count": 6,
     "metadata": {},
     "output_type": "execute_result"
    }
   ],
   "source": [
    "color_distribution(cards)"
   ]
  }
 ],
 "metadata": {
  "kernelspec": {
   "display_name": "Python 3",
   "language": "python",
   "name": "python3"
  },
  "language_info": {
   "codemirror_mode": {
    "name": "ipython",
    "version": 3
   },
   "file_extension": ".py",
   "mimetype": "text/x-python",
   "name": "python",
   "nbconvert_exporter": "python",
   "pygments_lexer": "ipython3",
   "version": "3.9.4"
  }
 },
 "nbformat": 4,
 "nbformat_minor": 5
}
