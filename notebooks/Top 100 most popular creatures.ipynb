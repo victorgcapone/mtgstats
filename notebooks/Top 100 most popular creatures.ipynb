{
 "cells": [
  {
   "cell_type": "code",
   "execution_count": 152,
   "id": "0a8298ba",
   "metadata": {},
   "outputs": [],
   "source": [
    "import mtgstats.scryfall.api as api\n",
    "import mtgstats.cards as c\n",
    "import pandas as pd\n",
    "import matplotlib.pyplot as plt"
   ]
  },
  {
   "cell_type": "code",
   "execution_count": 205,
   "id": "edba6fa1",
   "metadata": {},
   "outputs": [],
   "source": [
    "stats = {}"
   ]
  },
  {
   "cell_type": "code",
   "execution_count": 236,
   "id": "6bc73dc6",
   "metadata": {},
   "outputs": [
    {
     "name": "stdout",
     "output_type": "stream",
     "text": [
      "Making request to https://api.scryfall.com/cards/search?q=t:creature sort:edhrec\n"
     ]
    }
   ],
   "source": [
    "query = api.search('t:creature sort:edhrec', limit=100)\n",
    "cards = c.parse_cards(query)\n",
    "data = pd.DataFrame(cards)"
   ]
  },
  {
   "cell_type": "code",
   "execution_count": 237,
   "id": "6878287b",
   "metadata": {},
   "outputs": [
    {
     "data": {
      "text/html": [
       "<div>\n",
       "<style scoped>\n",
       "    .dataframe tbody tr th:only-of-type {\n",
       "        vertical-align: middle;\n",
       "    }\n",
       "\n",
       "    .dataframe tbody tr th {\n",
       "        vertical-align: top;\n",
       "    }\n",
       "\n",
       "    .dataframe thead th {\n",
       "        text-align: right;\n",
       "    }\n",
       "</style>\n",
       "<table border=\"1\" class=\"dataframe\">\n",
       "  <thead>\n",
       "    <tr style=\"text-align: right;\">\n",
       "      <th></th>\n",
       "      <th>name</th>\n",
       "      <th>mana_cost</th>\n",
       "      <th>cmc</th>\n",
       "      <th>type_line</th>\n",
       "      <th>oracle_text</th>\n",
       "      <th>power</th>\n",
       "      <th>toughness</th>\n",
       "      <th>colors</th>\n",
       "      <th>color_identity</th>\n",
       "      <th>keywords</th>\n",
       "      <th>rarity</th>\n",
       "      <th>edhrec_rank</th>\n",
       "    </tr>\n",
       "  </thead>\n",
       "  <tbody>\n",
       "    <tr>\n",
       "      <th>0</th>\n",
       "      <td>Solemn Simulacrum</td>\n",
       "      <td>{4}</td>\n",
       "      <td>4.0</td>\n",
       "      <td>Artifact Creature — Golem</td>\n",
       "      <td>When Solemn Simulacrum enters the battlefield,...</td>\n",
       "      <td>2</td>\n",
       "      <td>2</td>\n",
       "      <td>[]</td>\n",
       "      <td>[]</td>\n",
       "      <td>[]</td>\n",
       "      <td>rare</td>\n",
       "      <td>20</td>\n",
       "    </tr>\n",
       "    <tr>\n",
       "      <th>1</th>\n",
       "      <td>Sakura-Tribe Elder</td>\n",
       "      <td>{1}{G}</td>\n",
       "      <td>2.0</td>\n",
       "      <td>Creature — Snake Shaman</td>\n",
       "      <td>Sacrifice Sakura-Tribe Elder: Search your libr...</td>\n",
       "      <td>1</td>\n",
       "      <td>1</td>\n",
       "      <td>[G]</td>\n",
       "      <td>[G]</td>\n",
       "      <td>[]</td>\n",
       "      <td>common</td>\n",
       "      <td>36</td>\n",
       "    </tr>\n",
       "    <tr>\n",
       "      <th>2</th>\n",
       "      <td>Eternal Witness</td>\n",
       "      <td>{1}{G}{G}</td>\n",
       "      <td>3.0</td>\n",
       "      <td>Creature — Human Shaman</td>\n",
       "      <td>When Eternal Witness enters the battlefield, y...</td>\n",
       "      <td>2</td>\n",
       "      <td>1</td>\n",
       "      <td>[G]</td>\n",
       "      <td>[G]</td>\n",
       "      <td>[]</td>\n",
       "      <td>uncommon</td>\n",
       "      <td>37</td>\n",
       "    </tr>\n",
       "    <tr>\n",
       "      <th>3</th>\n",
       "      <td>Llanowar Elves</td>\n",
       "      <td>{G}</td>\n",
       "      <td>1.0</td>\n",
       "      <td>Creature — Elf Druid</td>\n",
       "      <td>{T}: Add {G}.</td>\n",
       "      <td>1</td>\n",
       "      <td>1</td>\n",
       "      <td>[G]</td>\n",
       "      <td>[G]</td>\n",
       "      <td>[]</td>\n",
       "      <td>common</td>\n",
       "      <td>47</td>\n",
       "    </tr>\n",
       "    <tr>\n",
       "      <th>4</th>\n",
       "      <td>Birds of Paradise</td>\n",
       "      <td>{G}</td>\n",
       "      <td>1.0</td>\n",
       "      <td>Creature — Bird</td>\n",
       "      <td>Flying\\n{T}: Add one mana of any color.</td>\n",
       "      <td>0</td>\n",
       "      <td>1</td>\n",
       "      <td>[G]</td>\n",
       "      <td>[G]</td>\n",
       "      <td>[Flying]</td>\n",
       "      <td>rare</td>\n",
       "      <td>58</td>\n",
       "    </tr>\n",
       "  </tbody>\n",
       "</table>\n",
       "</div>"
      ],
      "text/plain": [
       "                 name  mana_cost  cmc                  type_line  \\\n",
       "0   Solemn Simulacrum        {4}  4.0  Artifact Creature — Golem   \n",
       "1  Sakura-Tribe Elder     {1}{G}  2.0    Creature — Snake Shaman   \n",
       "2     Eternal Witness  {1}{G}{G}  3.0    Creature — Human Shaman   \n",
       "3      Llanowar Elves        {G}  1.0       Creature — Elf Druid   \n",
       "4   Birds of Paradise        {G}  1.0            Creature — Bird   \n",
       "\n",
       "                                         oracle_text power toughness colors  \\\n",
       "0  When Solemn Simulacrum enters the battlefield,...     2         2     []   \n",
       "1  Sacrifice Sakura-Tribe Elder: Search your libr...     1         1    [G]   \n",
       "2  When Eternal Witness enters the battlefield, y...     2         1    [G]   \n",
       "3                                      {T}: Add {G}.     1         1    [G]   \n",
       "4            Flying\\n{T}: Add one mana of any color.     0         1    [G]   \n",
       "\n",
       "  color_identity  keywords    rarity  edhrec_rank  \n",
       "0             []        []      rare           20  \n",
       "1            [G]        []    common           36  \n",
       "2            [G]        []  uncommon           37  \n",
       "3            [G]        []    common           47  \n",
       "4            [G]  [Flying]      rare           58  "
      ]
     },
     "execution_count": 237,
     "metadata": {},
     "output_type": "execute_result"
    }
   ],
   "source": [
    "data.head()"
   ]
  },
  {
   "cell_type": "code",
   "execution_count": 238,
   "id": "f2f62444",
   "metadata": {},
   "outputs": [
    {
     "data": {
      "image/png": "[encoded data removed]",
      "text/plain": [
       "<Figure size 720x288 with 2 Axes>"
      ]
     },
     "metadata": {
      "needs_background": "light"
     },
     "output_type": "display_data"
    }
   ],
   "source": [
    "fig, ax = plt.subplots(figsize = (10,4))\n",
    "\n",
    "bins = range(int(data.cmc.max())+1)\n",
    "freqs = data.cmc.value_counts().sort_index()\n",
    "\n",
    "ax.set(\n",
    "    title='CMC Distribution',\n",
    "    xlabel = 'CMC',\n",
    "    ylabel = 'Freq.',\n",
    "    xticks = bins\n",
    ")\n",
    "\n",
    "cumsum_ax = ax.twinx()\n",
    "cumsum_ax.set(\n",
    "    ylabel = '% cum sum'\n",
    ")\n",
    "\n",
    "ax.bar(bins, freqs, label=\"Freq.\", color='xkcd:sky blue')\n",
    "cumsum_ax.plot(bins, freqs.cumsum()/len(data), c='salmon', label='Cum. Sum.')\n",
    "\n",
    "fig.legend(loc=(.1, .7))\n",
    "\n",
    "fig.tight_layout()"
   ]
  },
  {
   "cell_type": "code",
   "execution_count": 239,
   "id": "e13796bf",
   "metadata": {},
   "outputs": [],
   "source": [
    "stats['cmc'] = { \n",
    "    'freq': {cmc: freq for cmc, freq in zip(bins, freqs)},\n",
    "    'cumsum' : {cmc: s for cmc, s in zip(bins, freqs.cumsum())}\n",
    "}"
   ]
  },
  {
   "cell_type": "code",
   "execution_count": 240,
   "id": "9c0e8445",
   "metadata": {},
   "outputs": [
    {
     "data": {
      "text/plain": [
       "{'cmc': {'freq': {0: 1, 1: 11, 2: 15, 3: 27, 4: 17, 5: 10, 6: 9, 7: 6, 8: 4},\n",
       "  'cumsum': {0: 1, 1: 12, 2: 27, 3: 54, 4: 71, 5: 81, 6: 90, 7: 96, 8: 100}}}"
      ]
     },
     "execution_count": 240,
     "metadata": {},
     "output_type": "execute_result"
    }
   ],
   "source": [
    "stats"
   ]
  },
  {
   "cell_type": "code",
   "execution_count": 241,
   "id": "aa21c95a",
   "metadata": {},
   "outputs": [],
   "source": [
    "colors = {\n",
    "    'W': 0,\n",
    "    'U': 0,\n",
    "    'B': 0,\n",
    "    'R': 0,\n",
    "    'G': 0,\n",
    "    'C': 0\n",
    "}\n",
    "\n",
    "for card in cards:\n",
    "    try:\n",
    "        if len(card['colors']) == 0:\n",
    "            colors['C'] += 1\n",
    "        for color in colors.keys():\n",
    "            if color in card['colors']:\n",
    "                colors[color] += 1\n",
    "    except:\n",
    "        print(card['name'])\n",
    "            \n",
    "colors_freq = pd.Series(colors)\n",
    "colors_freq = colors_freq.sort_values(ascending=False)"
   ]
  },
  {
   "cell_type": "code",
   "execution_count": 242,
   "id": "45ef4f62",
   "metadata": {},
   "outputs": [
    {
     "data": {
      "image/png": "[encoded data removed]",
      "text/plain": [
       "<Figure size 864x576 with 3 Axes>"
      ]
     },
     "metadata": {
      "needs_background": "light"
     },
     "output_type": "display_data"
    }
   ],
   "source": [
    "fig, (ax, ax_2) = plt.subplots(nrows=2, figsize=(12,8))\n",
    "\n",
    "ax.set(\n",
    "    title='Amount of creatures for each color',\n",
    "    xlabel='Color',\n",
    "    ylabel='Amount of creatures'\n",
    ")\n",
    "\n",
    "# Since there are multicolored creatures, the cumulative sum will exceed the total number of cards\n",
    "# as they count for all of their colors\n",
    "cumsum_ax = ax.twinx()\n",
    "cumsum_ax.plot(colors_freq.cumsum(), c='salmon')\n",
    "\n",
    "ax.bar(colors_freq.index, colors_freq)\n",
    "\n",
    "\n",
    "# The number of creatures not of each color is the total minus the amount of creatures in that color\n",
    "not_in_color = (len(data) - colors_freq).sort_values(ascending=False)\n",
    "\n",
    "ax_2.set(\n",
    "    title = 'Amount of creatures NOT in each color',\n",
    "    xlabel='Color',\n",
    "    ylabel='Amount of creatures',\n",
    "    ylim=(min(not_in_color) - len(data)/2,len(data))\n",
    ")\n",
    "\n",
    "ax_2.grid(axis='y')\n",
    "ax_2.bar(not_in_color.index, not_in_color)\n",
    "\n",
    "fig.tight_layout()"
   ]
  }
 ],
 "metadata": {
  "kernelspec": {
   "display_name": "Python 3",
   "language": "python",
   "name": "python3"
  },
  "language_info": {
   "codemirror_mode": {
    "name": "ipython",
    "version": 3
   },
   "file_extension": ".py",
   "mimetype": "text/x-python",
   "name": "python",
   "nbconvert_exporter": "python",
   "pygments_lexer": "ipython3",
   "version": "3.9.4"
  }
 },
 "nbformat": 4,
 "nbformat_minor": 5
}
