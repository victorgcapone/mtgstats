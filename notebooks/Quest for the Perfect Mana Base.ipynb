{
 "cells": [
  {
   "cell_type": "code",
   "execution_count": 1,
   "id": "fabed82b",
   "metadata": {},
   "outputs": [],
   "source": [
    "import numpy as np\n",
    "from scipy.stats.distributions import hypergeom\n",
    "from scipy.stats import multivariate_hypergeom\n",
    "import matplotlib.pyplot as plt\n",
    "from random import sample"
   ]
  },
  {
   "cell_type": "markdown",
   "id": "486525ec",
   "metadata": {},
   "source": [
    "# The simplest case possible\n",
    "\n",
    "If we have a mono-colored deck with only basic lands, the probability of casting a X mana value spell is given by the chance of drawing X lands up to turn X, in general the number L of lands drawn up to turn X is modeled as:\n",
    "\n",
    "$$ L \\sim HG(99, l, X+7) $$"
   ]
  },
  {
   "cell_type": "code",
   "execution_count": 2,
   "id": "824f660f",
   "metadata": {},
   "outputs": [],
   "source": [
    "mana_curve =  [0, 15, 20, 11, 8, 5, 4]\n",
    "curve_slots = [i for i in range(len(mana_curve))]\n",
    "lands = 99 - sum(mana_curve)\n",
    "\n",
    "probs = [\n",
    "    hypergeom(99, lands, 7 + i) for i in range(len(mana_curve))\n",
    "]"
   ]
  },
  {
   "cell_type": "code",
   "execution_count": 3,
   "id": "4346745d",
   "metadata": {},
   "outputs": [
    {
     "data": {
      "image/png": "[encoded data removed]",
      "text/plain": [
       "<Figure size 720x360 with 2 Axes>"
      ]
     },
     "metadata": {
      "needs_background": "light"
     },
     "output_type": "display_data"
    }
   ],
   "source": [
    "fig, ax = plt.subplots(figsize=(10, 5))\n",
    "\n",
    "ax.set(\n",
    "    title=f\"{lands} lands\"\n",
    ")\n",
    "\n",
    "ax.bar(curve_slots, mana_curve)\n",
    "\n",
    "ax_2 = ax.twinx()\n",
    "\n",
    "# P(L >= x) = 1 - P(L < x)\n",
    "ax_2.set(\n",
    "    ylim=(0, 1)\n",
    ")\n",
    "ax_2.plot(curve_slots, [1-prob.cdf(slot-1) for prob, slot in zip(probs, curve_slots)], '-o', color='salmon');"
   ]
  },
  {
   "cell_type": "markdown",
   "id": "48aac6d6",
   "metadata": {},
   "source": [
    "# Adding another color\n",
    "\n",
    "Let's think about two colored decks with only basic lands now, we still need to find the same amount of lands, L\n",
    "\n",
    "$$ L \\sim HG(99, l, X+7) $$\n",
    "\n",
    "But now, we also need to find the correct colors, number of lands that generate a color $C_x$ is denoted by, for that we use a multivariate hypergeometric distribution with parameters $(\\bar l, l_x, l_y)$ where $\\bar l$ is the number of non-land cards and $l_x$ is the number of lands that generate the color $x$\n",
    "\n",
    "Lets consider a Red-Green card which costs {1}{G}{R} in a deck with an even split of 18 Mountains and 18 Forests"
   ]
  },
  {
   "cell_type": "code",
   "execution_count": 4,
   "id": "b60b0170",
   "metadata": {},
   "outputs": [],
   "source": [
    "L = multivariate_hypergeom(m=[63, 18, 18], n = 10)"
   ]
  },
  {
   "cell_type": "markdown",
   "id": "17518837",
   "metadata": {},
   "source": [
    "## But wait there is more\n",
    "\n",
    "Now, the probability we can cast the spell is the probability that we draw at least 3 lands, and at least one of each color, since this is really hard to encode, we can cheat and compute it as:\n",
    "\n",
    "$$P(\\text{Can cast}) = \\Sigma_{k=3}^{10} \\Sigma_{i=1}^{k-1} P(X-k, k-i, i) $$\n",
    "\n",
    "Note that we choose $k=3$ because we want at least 3 lands, which is the MV of the card, and 10 is the amount of cards we (presumably) draw until turn 3.If we want a more general expression\n",
    "\n",
    "$$P(\\text{Can cast}) = \\Sigma_{k=x}^{7+x} \\Sigma_{i=1}^{k-1} P(X-k, k-i, i) $$"
   ]
  },
  {
   "cell_type": "code",
   "execution_count": 5,
   "id": "1717e0f1",
   "metadata": {},
   "outputs": [
    {
     "name": "stdout",
     "output_type": "stream",
     "text": [
      "Probability of having 1GR after 10 draws (or by turn 3) is 68.65%\n"
     ]
    }
   ],
   "source": [
    "# All combinations where you have at least 1 of each color and at least 3 lands\n",
    "combinations = []\n",
    "for k in range(3, 11):\n",
    "    combinations.extend([\n",
    "     (10-k, k-i, i) for i in range(1, k)\n",
    "    ])\n",
    "    \n",
    "p = sum([\n",
    "    L.pmf(comb) for comb in combinations\n",
    "])\n",
    "\n",
    "print(f\"Probability of having 1GR after 10 draws (or by turn 3) is {p:.2%}\")"
   ]
  },
  {
   "cell_type": "markdown",
   "id": "10651c6d",
   "metadata": {},
   "source": [
    "Lets check with a simulation, by creating a mock deck and sampling 10 draws for 10000 rounds"
   ]
  },
  {
   "cell_type": "code",
   "execution_count": 6,
   "id": "0f35dc63",
   "metadata": {},
   "outputs": [],
   "source": [
    "# Values for convenience\n",
    "RED   = 0\n",
    "GREEN = 1\n",
    "BLUE  = 2\n",
    "BLACK = 3\n",
    "WHITE = 4\n",
    "COLORS = [RED, GREEN, BLUE, BLACK, WHITE]"
   ]
  },
  {
   "cell_type": "code",
   "execution_count": 7,
   "id": "44892958",
   "metadata": {},
   "outputs": [],
   "source": [
    "def create_deck(lands, size=99):\n",
    "    total_lands = sum(lands)\n",
    "    deck = [(0,0,0,0,0)] * (size-total_lands)\n",
    "    for color, amount in enumerate(lands):\n",
    "        lands_to_add = [tuple(map(int, f\"{1<<4-color:05b}\"))] * amount\n",
    "        deck.extend(lands_to_add)\n",
    "    return deck"
   ]
  },
  {
   "cell_type": "code",
   "execution_count": 8,
   "id": "7193bc1e",
   "metadata": {},
   "outputs": [
    {
     "name": "stdout",
     "output_type": "stream",
     "text": [
      "Simulated probability: 68.51%\n"
     ]
    }
   ],
   "source": [
    "# First we create a deck with 18 Mountains, 18 Forests and 63 spells\n",
    "deck = create_deck((18, 18), 99)\n",
    "\n",
    "def simulate(deck, cost, ROUNDS=10000):\n",
    "    hits = 0\n",
    "    for i in range(ROUNDS):\n",
    "        # Draw 10 random cards\n",
    "        drawn = sample(deck, 7+sum(cost))\n",
    "        # Count the amount of mana of each color the hand can generate\n",
    "        colors = [sum(map(lambda x:x[c], drawn)) for c in COLORS]\n",
    "        \n",
    "        \n",
    "        # If we can't even get to the MV, continue\n",
    "        # This breaks if there are lands that generate more than 1 color\n",
    "        if sum(colors) < sum(cost):\n",
    "            continue\n",
    "        \n",
    "        can_cast = True\n",
    "        for color, amount in enumerate(colors):\n",
    "            # If the amount the hand can generate for a given color\n",
    "            # is less than the cost requirement, break\n",
    "            if amount < cost[color]:\n",
    "                can_cast = False\n",
    "                break\n",
    "        if can_cast:\n",
    "            hits += 1.\n",
    "\n",
    "    return hits/ROUNDS\n",
    "           \n",
    "    \n",
    "print(f\"Simulated probability: {simulate(deck, (1,1,0,0,0,1)):.2%}\")"
   ]
  },
  {
   "cell_type": "markdown",
   "id": "6e6e0d62",
   "metadata": {},
   "source": [
    "We can now simulate any deck and any card with only basic lands"
   ]
  },
  {
   "cell_type": "code",
   "execution_count": 9,
   "id": "7beb6e9d",
   "metadata": {},
   "outputs": [
    {
     "name": "stdout",
     "output_type": "stream",
     "text": [
      "Simulated probability: 81.48%\n",
      "Simulated probability: 80.85%\n",
      "Simulated probability: 71.27%\n",
      "Simulated probability: 68.62%\n",
      "Simulated probability: 0.00%\n"
     ]
    }
   ],
   "source": [
    "# Deck with 18 Mountains, Forest \n",
    "deck = create_deck((18,18,), 99)\n",
    "\n",
    "print(f\"Simulated probability: {simulate(deck, (1,0,0,0,0,0)):.2%}\") # {R}\n",
    "print(f\"Simulated probability: {simulate(deck, (0,1,0,0,0,0)):.2%}\") # {G}\n",
    "print(f\"Simulated probability: {simulate(deck, (1,1,0,0,0,0)):.2%}\") # {R}{G}\n",
    "print(f\"Simulated probability: {simulate(deck, (1,1,0,0,0,1)):.2%}\") # {1}{R}{G}\n",
    "print(f\"Simulated probability: {simulate(deck, (1,1,1,0,0,0)):.2%}\") # {R}{G}{U}"
   ]
  },
  {
   "cell_type": "markdown",
   "id": "3e486190",
   "metadata": {},
   "source": [
    "The above values should confirm our intuition, 1 mana spells should be easier than 2 color spells and those\n",
    "should be easier than 3 color spells even if ther MV is the same.\n",
    "\n",
    "# Well, this is cool and all, but how about dual and tap lands?\n",
    "\n",
    "Okay, so this all works for decks with only basic lands, but what about dual lands, fetch lands, trilands and others? Well, this gets really messy real quick, but let's give it a shot."
   ]
  },
  {
   "cell_type": "code",
   "execution_count": 10,
   "id": "78d6216e",
   "metadata": {},
   "outputs": [],
   "source": [
    "from mtgstats.simulation import *\n",
    "from tqdm.notebook import tqdm"
   ]
  },
  {
   "cell_type": "code",
   "execution_count": 15,
   "id": "68092138",
   "metadata": {},
   "outputs": [
    {
     "data": {
      "text/plain": [
       "99"
      ]
     },
     "execution_count": 15,
     "metadata": {},
     "output_type": "execute_result"
    }
   ],
   "source": [
    "deck = []\n",
    "deck.extend([Mountain() for _ in range(17)])\n",
    "deck.extend([Forest() for _ in range(16)])\n",
    "\n",
    "deck.extend([Spell() for _ in range(99 - len(deck))])\n",
    "\n",
    "len(deck)"
   ]
  },
  {
   "cell_type": "code",
   "execution_count": 16,
   "id": "dc1b0916",
   "metadata": {},
   "outputs": [
    {
     "name": "stderr",
     "output_type": "stream",
     "text": [
      "100%|██████████████████████████████████| 10000/10000 [00:00<00:00, 16816.29it/s]\n"
     ]
    },
    {
     "data": {
      "text/plain": [
       "0.6136"
      ]
     },
     "execution_count": 16,
     "metadata": {},
     "output_type": "execute_result"
    }
   ],
   "source": [
    "simulator = ManaCurveSimulator(deck)\n",
    "simulator.run_simulation((1,1,0,0,0,1), 10000)"
   ]
  },
  {
   "cell_type": "code",
   "execution_count": 19,
   "id": "bf015bd0",
   "metadata": {},
   "outputs": [],
   "source": [
    "# Cost to tests\n",
    "costs = [\n",
    "    (1,0,0,0,0,0), # {R}\n",
    "    (0,1,0,0,0,0), # {G}\n",
    "    (1,1,0,0,0,0), # {R}{G}\n",
    "    (1,1,0,0,0,1), # {1}{R}{G}\n",
    "    (0,1,0,0,0,2), # {2}{G}\n",
    "    (0,0,0,0,0,2), # {2}\n",
    "    (1,1,1,0,0,0), # {R}{G}{U}, should be 0\n",
    "]"
   ]
  },
  {
   "cell_type": "code",
   "execution_count": 20,
   "id": "338be39e",
   "metadata": {},
   "outputs": [
    {
     "name": "stderr",
     "output_type": "stream",
     "text": [
      "100%|██████████████████████████████████| 10000/10000 [00:00<00:00, 24888.48it/s]\n"
     ]
    },
    {
     "name": "stdout",
     "output_type": "stream",
     "text": [
      "Probability to cast (1, 0, 0, 0, 0, 0) on curve is 78.85%\n"
     ]
    },
    {
     "name": "stderr",
     "output_type": "stream",
     "text": [
      "100%|██████████████████████████████████| 10000/10000 [00:00<00:00, 24889.80it/s]\n"
     ]
    },
    {
     "name": "stdout",
     "output_type": "stream",
     "text": [
      "Probability to cast (0, 1, 0, 0, 0, 0) on curve is 76.29%\n"
     ]
    },
    {
     "name": "stderr",
     "output_type": "stream",
     "text": [
      "100%|██████████████████████████████████| 10000/10000 [00:00<00:00, 19502.67it/s]\n"
     ]
    },
    {
     "name": "stdout",
     "output_type": "stream",
     "text": [
      "Probability to cast (1, 1, 0, 0, 0, 0) on curve is 65.72%\n"
     ]
    },
    {
     "name": "stderr",
     "output_type": "stream",
     "text": [
      "100%|██████████████████████████████████| 10000/10000 [00:00<00:00, 16420.37it/s]\n"
     ]
    },
    {
     "name": "stdout",
     "output_type": "stream",
     "text": [
      "Probability to cast (1, 1, 0, 0, 0, 1) on curve is 63.18%\n"
     ]
    },
    {
     "name": "stderr",
     "output_type": "stream",
     "text": [
      "100%|██████████████████████████████████| 10000/10000 [00:00<00:00, 17285.63it/s]\n"
     ]
    },
    {
     "name": "stdout",
     "output_type": "stream",
     "text": [
      "Probability to cast (0, 1, 0, 0, 0, 2) on curve is 66.45%\n"
     ]
    },
    {
     "name": "stderr",
     "output_type": "stream",
     "text": [
      "100%|██████████████████████████████████| 10000/10000 [00:00<00:00, 20201.72it/s]\n"
     ]
    },
    {
     "name": "stdout",
     "output_type": "stream",
     "text": [
      "Probability to cast (0, 0, 0, 0, 0, 2) on curve is 86.82%\n"
     ]
    },
    {
     "name": "stderr",
     "output_type": "stream",
     "text": [
      "100%|██████████████████████████████████| 10000/10000 [00:00<00:00, 17063.52it/s]"
     ]
    },
    {
     "name": "stdout",
     "output_type": "stream",
     "text": [
      "Probability to cast (1, 1, 1, 0, 0, 0) on curve is 0.00%\n"
     ]
    },
    {
     "name": "stderr",
     "output_type": "stream",
     "text": [
      "\n"
     ]
    }
   ],
   "source": [
    "for cost in costs:\n",
    "    print(f\"Probability to cast {cost} on curve is {simulator.run_simulation(cost, 10000):.2%}\")"
   ]
  },
  {
   "cell_type": "markdown",
   "id": "8b67714d",
   "metadata": {},
   "source": [
    "Okay, our simulations match the predicted values for basics only, that's the best we cando as far as being sure it works for the other cases, now we can use a Genetic Algorithm to optimize our mana base"
   ]
  },
  {
   "cell_type": "code",
   "execution_count": null,
   "id": "03cee846",
   "metadata": {},
   "outputs": [],
   "source": [
    "# First we define a fitness function\n",
    "def fitness(deck):\n",
    "    # Run some checks on the validity of the manabase (to many untapped dual, 5c lands, etc...)\n",
    "    if not valid_manabase(deck): return 0.\n",
    "    \n",
    "    "
   ]
  }
 ],
 "metadata": {
  "kernelspec": {
   "display_name": "Python 3 (ipykernel)",
   "language": "python",
   "name": "python3"
  },
  "language_info": {
   "codemirror_mode": {
    "name": "ipython",
    "version": 3
   },
   "file_extension": ".py",
   "mimetype": "text/x-python",
   "name": "python",
   "nbconvert_exporter": "python",
   "pygments_lexer": "ipython3",
   "version": "3.10.4"
  }
 },
 "nbformat": 4,
 "nbformat_minor": 5
}
